{
 "cells": [
  {
   "cell_type": "code",
   "execution_count": 6,
   "metadata": {},
   "outputs": [
    {
     "name": "stdout",
     "output_type": "stream",
     "text": [
      "what is your nameArmIn\n",
      "rmn\n"
     ]
    }
   ],
   "source": [
    "name =input('what is your name')\n",
    "vowels = ['a', 'e', 'i', 'o', 'u', 'A','E', 'I','O','U']\n",
    "result = ''\n",
    "for letter in name:\n",
    "    if letter not in vowels:\n",
    "        result += letter\n",
    "\n",
    "print(result)"
   ]
  }
 ],
 "metadata": {
  "kernelspec": {
   "display_name": "Python 3",
   "language": "python",
   "name": "python3"
  },
  "language_info": {
   "codemirror_mode": {
    "name": "ipython",
    "version": 3
   },
   "file_extension": ".py",
   "mimetype": "text/x-python",
   "name": "python",
   "nbconvert_exporter": "python",
   "pygments_lexer": "ipython3",
   "version": "3.7.1"
  }
 },
 "nbformat": 4,
 "nbformat_minor": 2
}

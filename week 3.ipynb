{
 "cells": [
  {
   "cell_type": "code",
   "execution_count": null,
   "metadata": {},
   "outputs": [],
   "source": [
    "mylist=[1,1,2,2,3,4,4,5]\n",
    "newlist=[]\n",
    "def duplinus (mylist,newlist):\n",
    "    for i in mylist:\n",
    "        if i not in newlist:\n",
    "            newlist.append(i)\n",
    "    print(newlist)\n",
    "duplinus(mylist,newlist)\n",
    "    "
   ]
  },
  {
   "cell_type": "code",
   "execution_count": null,
   "metadata": {},
   "outputs": [],
   "source": [
    "numbers = [1,2,3,4,5,6,7,8,9,10,11,12,13,14,15]\n",
    "x = input()\n",
    "def finder(x):\n",
    "    for i in numbers:\n",
    "        if x in numbers:\n",
    "            return True   \n",
    "finder(x)\n"
   ]
  },
  {
   "cell_type": "code",
   "execution_count": null,
   "metadata": {},
   "outputs": [],
   "source": [
    "\n",
    "list1 = [10, 21, 4, 45, 66, 93, 11]  \n",
    "  \n",
    "evenlist = list(filter(lambda x: (x % 2 == 0), list1)) \n",
    "  \n",
    "print(evenlist) \n"
   ]
  },
  {
   "cell_type": "code",
   "execution_count": 1,
   "metadata": {},
   "outputs": [
    {
     "ename": "SyntaxError",
     "evalue": "invalid syntax (<ipython-input-1-347e9a453e96>, line 8)",
     "output_type": "error",
     "traceback": [
      "\u001b[1;36m  File \u001b[1;32m\"<ipython-input-1-347e9a453e96>\"\u001b[1;36m, line \u001b[1;32m8\u001b[0m\n\u001b[1;33m    if compguess in range(min,int(max/6):\u001b[0m\n\u001b[1;37m                                        ^\u001b[0m\n\u001b[1;31mSyntaxError\u001b[0m\u001b[1;31m:\u001b[0m invalid syntax\n"
     ]
    }
   ],
   "source": [
    "import random\n",
    "guess=int(input('choose a number between 0 to 200'))\n",
    "compguess=random.randint(0, 200)\n",
    "max = 200\n",
    "min = 0\n",
    "\n",
    "while compguess != guess:\n",
    "    if compguess in range(min,int(max/6): \n",
    "        print(\"way upper guess\")\n",
    "    elif compguess in range(int(max/6),int(max/3)):\n",
    "        print(\"upper Guess\")\n",
    "    elif compguess in range(int(max/3),int(max/2)):\n",
    "        print(\"close\")\n",
    "    elif compguess in range(int(max/2),int(2*max/3)):\n",
    "        print(\"close\")\n",
    "    elif compguess in range(int(2*max/3),int(5*max/6)):\n",
    "        print(\" lower guess\")\n",
    "    elif compguess in range(int(5*max/6),max):\n",
    "        print(\"way lower guess\") \n",
    "\n",
    "print(\"Good job Computer! You guessed it! The number was,\", guess, \\\n",
    "      \" and it only took you\")\n",
    "\n"
   ]
  },
  {
   "cell_type": "code",
   "execution_count": null,
   "metadata": {},
   "outputs": [],
   "source": []
  }
 ],
 "metadata": {
  "kernelspec": {
   "display_name": "Python 3",
   "language": "python",
   "name": "python3"
  },
  "language_info": {
   "codemirror_mode": {
    "name": "ipython",
    "version": 3
   },
   "file_extension": ".py",
   "mimetype": "text/x-python",
   "name": "python",
   "nbconvert_exporter": "python",
   "pygments_lexer": "ipython3",
   "version": "3.7.1"
  }
 },
 "nbformat": 4,
 "nbformat_minor": 2
}

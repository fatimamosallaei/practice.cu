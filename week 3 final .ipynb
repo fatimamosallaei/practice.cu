{
 "cells": [
  {
   "cell_type": "code",
   "execution_count": null,
   "metadata": {},
   "outputs": [],
   "source": [
    "mylist=[1,1,2,2,3,4,4,5]\n",
    "newlist=[]\n",
    "def duplinus (mylist,newlist):\n",
    "    for i in mylist:\n",
    "        if i not in newlist:\n",
    "            newlist.append(i)\n",
    "    print(newlist)\n",
    "duplinus(mylist,newlist)\n",
    "    "
   ]
  },
  {
   "cell_type": "code",
   "execution_count": null,
   "metadata": {},
   "outputs": [],
   "source": [
    "mylist=[1,3,4,5,6,7,8]\n",
    "x=input()\n",
    "def finder(x):\n",
    "    for i in numbers:\n",
    "        if x in numbers:\n",
    "            return True\n",
    "x=i\n",
    "finder(x)"
   ]
  },
  {
   "cell_type": "code",
   "execution_count": null,
   "metadata": {},
   "outputs": [],
   "source": [
    "\n",
    "list1 = [10, 21, 4, 45, 66, 93, 11]  \n",
    "  \n",
    "evenlist = list(filter(lambda x: (x % 2 == 0), list1)) \n",
    "  \n",
    "print(evenlist) \n"
   ]
  },
  {
   "cell_type": "code",
   "execution_count": null,
   "metadata": {},
   "outputs": [],
   "source": [
    "import random\n",
    "guess=int(input('choose a number between 0 to 200'))\n",
    "compguess=random.randint(0, 200)\n",
    "\n",
    "while compguess != guess:\n",
    "    differ= guess - compguess\n",
    "    if differ < -100: \n",
    "        print(\"way upper guess\")\n",
    "        guess=int(input('Try Again'))\n",
    "    elif differ in range(-100,-10):\n",
    "        print(\"upper Guess\")\n",
    "        guess=int(input('Try Again'))\n",
    "    elif differ in range(-9,10):\n",
    "        print(\"close\")\n",
    "        guess=int(input('Try Again'))\n",
    "    elif differ in range(11,100):\n",
    "        print(\" lower guess\")\n",
    "        guess=int(input('Try Again'))\n",
    "    elif differ>100:\n",
    "        print(\"way lower guess\") \n",
    "        guess=int(input('Try Again'))\n",
    "\n",
    "print(\"Good job! You guessed it! The number was,\", guess)\n",
    "\n"
   ]
  },
  {
   "cell_type": "code",
   "execution_count": 2,
   "metadata": {},
   "outputs": [
    {
     "name": "stdout",
     "output_type": "stream",
     "text": [
      "Please think of a number between 0 and 100!\n",
      "Is your secret number  50\n",
      "Enter 'h' to indicate the guess is too high. Enter 'l' to indicate the guess is too low. Enter 'c' to indicate I guessed correctly.h\n",
      "Is your secret number  25\n",
      "Enter 'h' to indicate the guess is too high. Enter 'l' to indicate the guess is too low. Enter 'c' to indicate I guessed correctly.h\n",
      "Is your secret number  12\n",
      "Enter 'h' to indicate the guess is too high. Enter 'l' to indicate the guess is too low. Enter 'c' to indicate I guessed correctly.l\n",
      "Is your secret number  18\n",
      "Enter 'h' to indicate the guess is too high. Enter 'l' to indicate the guess is too low. Enter 'c' to indicate I guessed correctly.h\n",
      "Is your secret number  15\n",
      "Enter 'h' to indicate the guess is too high. Enter 'l' to indicate the guess is too low. Enter 'c' to indicate I guessed correctly.l\n",
      "Is your secret number  16\n",
      "Enter 'h' to indicate the guess is too high. Enter 'l' to indicate the guess is too low. Enter 'c' to indicate I guessed correctly.c\n",
      "Game over. Your secret number was: 16\n"
     ]
    }
   ],
   "source": [
    "print ('Please think of a number between 0 and 100!')\n",
    "low = 0\n",
    "high = 100\n",
    "while(True):\n",
    "    rand =(high+low)//2\n",
    "    print (\"Is your secret number \",rand)\n",
    "    ans = input(\"Enter 'h' to indicate the guess is too high. Enter 'l' to indicate the guess is too low. Enter 'c' to indicate I guessed correctly.\")\n",
    "    if ans=='h':\n",
    "        high = rand\n",
    "    elif ans=='l':\n",
    "        low = rand\n",
    "    elif ans=='c':\n",
    "        print (\"Game over. Your secret number was:\",rand)\n",
    "        break\n",
    "    else:\n",
    "        print (\"Sorry, I did not understand your input\")\n"
   ]
  },
  {
   "cell_type": "code",
   "execution_count": null,
   "metadata": {},
   "outputs": [],
   "source": []
  }
 ],
 "metadata": {
  "kernelspec": {
   "display_name": "Python 3",
   "language": "python",
   "name": "python3"
  },
  "language_info": {
   "codemirror_mode": {
    "name": "ipython",
    "version": 3
   },
   "file_extension": ".py",
   "mimetype": "text/x-python",
   "name": "python",
   "nbconvert_exporter": "python",
   "pygments_lexer": "ipython3",
   "version": "3.7.1"
  }
 },
 "nbformat": 4,
 "nbformat_minor": 2
}

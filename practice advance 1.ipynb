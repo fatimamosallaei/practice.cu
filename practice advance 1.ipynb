{
 "cells": [
  {
   "cell_type": "code",
   "execution_count": 14,
   "metadata": {},
   "outputs": [
    {
     "name": "stdout",
     "output_type": "stream",
     "text": [
      "{'a': 5,\n",
      " 'd': 1,\n",
      " 'e': 1,\n",
      " 'f': 1,\n",
      " 'i': 3,\n",
      " 'l': 2,\n",
      " 'm': 2,\n",
      " 'o': 3,\n",
      " 'p': 1,\n",
      " 'r': 1,\n",
      " 's': 1,\n",
      " 't': 1,\n",
      " 'y': 1,\n",
      " 'z': 1}\n"
     ]
    }
   ],
   "source": [
    "def char_frequency(name):\n",
    "    dict = {}\n",
    "    for n in name:\n",
    "        keys = dict.keys()\n",
    "        if n in keys:\n",
    "            dict[n] += 1\n",
    "        else:\n",
    "            dict[n] = 1\n",
    "    return dict\n",
    "import pprint\n",
    "pprint.pprint(char_frequency('fatimamosallaeipooryazdi'))\n"
   ]
  },
  {
   "cell_type": "code",
   "execution_count": null,
   "metadata": {},
   "outputs": [],
   "source": []
  }
 ],
 "metadata": {
  "kernelspec": {
   "display_name": "Python 3",
   "language": "python",
   "name": "python3"
  },
  "language_info": {
   "codemirror_mode": {
    "name": "ipython",
    "version": 3
   },
   "file_extension": ".py",
   "mimetype": "text/x-python",
   "name": "python",
   "nbconvert_exporter": "python",
   "pygments_lexer": "ipython3",
   "version": "3.7.1"
  }
 },
 "nbformat": 4,
 "nbformat_minor": 2
}
